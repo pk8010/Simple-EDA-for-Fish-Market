{
 "cells": [
  {
   "cell_type": "markdown",
   "metadata": {},
   "source": [
    "### Database of common fish species for fish market\n"
   ]
  },
  {
   "cell_type": "markdown",
   "metadata": {},
   "source": [
    "This dataset is a record of 7 common different fish species in fish market sales. With this dataset, a predictive model can be performed using machine friendly data and estimate the weight of fish can be predicted.\n",
    "\n"
   ]
  },
  {
   "cell_type": "markdown",
   "metadata": {},
   "source": [
    "https://www.kaggle.com/aungpyaeap/fish-market"
   ]
  },
  {
   "cell_type": "markdown",
   "metadata": {},
   "source": [
    "#### Feature Description\n",
    "\n",
    "* Weight: weight of fish in Gram g\n",
    "* Speies: Species of fish\n",
    "* Length1: vertical length in cm\n",
    "* Length2: diagonal length in cm\n",
    "* Length3: cross length in cm\n",
    "* Width: diagonal width in cm\n",
    "* Height: Height in cm\n",
    "\n",
    "\n"
   ]
  },
  {
   "cell_type": "code",
   "execution_count": 1,
   "metadata": {},
   "outputs": [],
   "source": [
    "import numpy as np # linear algebra\n",
    "import pandas as pd # data processing, CSV file I/O (e.g. pd.read_csv)\n",
    "import seaborn as sns\n",
    "import matplotlib.pyplot as plt\n",
    "from sklearn.linear_model import LinearRegression\n",
    "from sklearn.metrics import mean_squared_error\n",
    "from sklearn.preprocessing import OneHotEncoder"
   ]
  },
  {
   "cell_type": "code",
   "execution_count": 2,
   "metadata": {},
   "outputs": [
    {
     "data": {
      "text/html": [
       "<div>\n",
       "<style scoped>\n",
       "    .dataframe tbody tr th:only-of-type {\n",
       "        vertical-align: middle;\n",
       "    }\n",
       "\n",
       "    .dataframe tbody tr th {\n",
       "        vertical-align: top;\n",
       "    }\n",
       "\n",
       "    .dataframe thead th {\n",
       "        text-align: right;\n",
       "    }\n",
       "</style>\n",
       "<table border=\"1\" class=\"dataframe\">\n",
       "  <thead>\n",
       "    <tr style=\"text-align: right;\">\n",
       "      <th></th>\n",
       "      <th>ID</th>\n",
       "      <th>TimeStamp</th>\n",
       "      <th>Temperature</th>\n",
       "      <th>RelativeHumidity</th>\n",
       "      <th>Light</th>\n",
       "      <th>OxygenLevels</th>\n",
       "      <th>HumidityRatio</th>\n",
       "      <th>GTOccupancy</th>\n",
       "    </tr>\n",
       "  </thead>\n",
       "  <tbody>\n",
       "    <tr>\n",
       "      <td>0</td>\n",
       "      <td>2342</td>\n",
       "      <td>06-02-15 8:51</td>\n",
       "      <td>20.840</td>\n",
       "      <td>19.745000</td>\n",
       "      <td>433.0</td>\n",
       "      <td>629.75</td>\n",
       "      <td>0.003000</td>\n",
       "      <td>1</td>\n",
       "    </tr>\n",
       "    <tr>\n",
       "      <td>1</td>\n",
       "      <td>6419</td>\n",
       "      <td>09-02-15 4:49</td>\n",
       "      <td>19.290</td>\n",
       "      <td>26.890000</td>\n",
       "      <td>0.0</td>\n",
       "      <td>466.00</td>\n",
       "      <td>0.003716</td>\n",
       "      <td>0</td>\n",
       "    </tr>\n",
       "    <tr>\n",
       "      <td>2</td>\n",
       "      <td>3330</td>\n",
       "      <td>07-02-15 1:20</td>\n",
       "      <td>20.000</td>\n",
       "      <td>18.700000</td>\n",
       "      <td>0.0</td>\n",
       "      <td>435.50</td>\n",
       "      <td>0.002696</td>\n",
       "      <td>0</td>\n",
       "    </tr>\n",
       "    <tr>\n",
       "      <td>3</td>\n",
       "      <td>7188</td>\n",
       "      <td>09-02-15 17:38</td>\n",
       "      <td>22.200</td>\n",
       "      <td>38.433333</td>\n",
       "      <td>429.5</td>\n",
       "      <td>1943.50</td>\n",
       "      <td>0.006381</td>\n",
       "      <td>1</td>\n",
       "    </tr>\n",
       "    <tr>\n",
       "      <td>4</td>\n",
       "      <td>7655</td>\n",
       "      <td>10-02-15 1:25</td>\n",
       "      <td>20.245</td>\n",
       "      <td>32.900000</td>\n",
       "      <td>0.0</td>\n",
       "      <td>469.00</td>\n",
       "      <td>0.004833</td>\n",
       "      <td>0</td>\n",
       "    </tr>\n",
       "  </tbody>\n",
       "</table>\n",
       "</div>"
      ],
      "text/plain": [
       "     ID       TimeStamp  Temperature  RelativeHumidity  Light  OxygenLevels  \\\n",
       "0  2342   06-02-15 8:51       20.840         19.745000  433.0        629.75   \n",
       "1  6419   09-02-15 4:49       19.290         26.890000    0.0        466.00   \n",
       "2  3330   07-02-15 1:20       20.000         18.700000    0.0        435.50   \n",
       "3  7188  09-02-15 17:38       22.200         38.433333  429.5       1943.50   \n",
       "4  7655   10-02-15 1:25       20.245         32.900000    0.0        469.00   \n",
       "\n",
       "   HumidityRatio  GTOccupancy  \n",
       "0       0.003000            1  \n",
       "1       0.003716            0  \n",
       "2       0.002696            0  \n",
       "3       0.006381            1  \n",
       "4       0.004833            0  "
      ]
     },
     "execution_count": 2,
     "metadata": {},
     "output_type": "execute_result"
    }
   ],
   "source": [
    "df = pd.read_csv('SpaData.csv')\n",
    "df.head()"
   ]
  },
  {
   "cell_type": "code",
   "execution_count": 3,
   "metadata": {},
   "outputs": [
    {
     "data": {
      "text/plain": [
       "0    5125\n",
       "1    1389\n",
       "Name: GTOccupancy, dtype: int64"
      ]
     },
     "execution_count": 3,
     "metadata": {},
     "output_type": "execute_result"
    }
   ],
   "source": [
    "df['GTOccupancy'].value_counts()"
   ]
  },
  {
   "cell_type": "code",
   "execution_count": 4,
   "metadata": {},
   "outputs": [
    {
     "name": "stdout",
     "output_type": "stream",
     "text": [
      "Feature Name:  ['ID' 'TimeStamp' 'Temperature' 'RelativeHumidity' 'Light' 'OxygenLevels'\n",
      " 'HumidityRatio' 'GTOccupancy']\n"
     ]
    }
   ],
   "source": [
    "print('Feature Name: ',df.columns.values)"
   ]
  },
  {
   "cell_type": "code",
   "execution_count": 5,
   "metadata": {},
   "outputs": [
    {
     "data": {
      "text/plain": [
       "ID                  False\n",
       "TimeStamp           False\n",
       "Temperature         False\n",
       "RelativeHumidity    False\n",
       "Light               False\n",
       "OxygenLevels        False\n",
       "HumidityRatio       False\n",
       "GTOccupancy         False\n",
       "dtype: bool"
      ]
     },
     "execution_count": 5,
     "metadata": {},
     "output_type": "execute_result"
    }
   ],
   "source": [
    "# All Values is filled not any single value blank\n",
    "df.isnull().any()"
   ]
  },
  {
   "cell_type": "code",
   "execution_count": 6,
   "metadata": {},
   "outputs": [
    {
     "data": {
      "text/plain": [
       "<matplotlib.axes._subplots.AxesSubplot at 0x1d7c7cf8b08>"
      ]
     },
     "execution_count": 6,
     "metadata": {},
     "output_type": "execute_result"
    },
    {
     "data": {
      "image/png": "[encoded data removed]",
      "text/plain": [
       "<Figure size 432x288 with 1 Axes>"
      ]
     },
     "metadata": {
      "needs_background": "light"
     },
     "output_type": "display_data"
    }
   ],
   "source": [
    "# To see the variation of all kinds of fish\n",
    "df['GTOccupancy'].value_counts().plot(kind='bar')"
   ]
  },
  {
   "cell_type": "code",
   "execution_count": 7,
   "metadata": {},
   "outputs": [
    {
     "data": {
      "text/html": [
       "<div>\n",
       "<style scoped>\n",
       "    .dataframe tbody tr th:only-of-type {\n",
       "        vertical-align: middle;\n",
       "    }\n",
       "\n",
       "    .dataframe tbody tr th {\n",
       "        vertical-align: top;\n",
       "    }\n",
       "\n",
       "    .dataframe thead th {\n",
       "        text-align: right;\n",
       "    }\n",
       "</style>\n",
       "<table border=\"1\" class=\"dataframe\">\n",
       "  <thead>\n",
       "    <tr style=\"text-align: right;\">\n",
       "      <th></th>\n",
       "      <th>count</th>\n",
       "      <th>mean</th>\n",
       "      <th>std</th>\n",
       "      <th>min</th>\n",
       "      <th>25%</th>\n",
       "      <th>50%</th>\n",
       "      <th>75%</th>\n",
       "      <th>max</th>\n",
       "    </tr>\n",
       "  </thead>\n",
       "  <tbody>\n",
       "    <tr>\n",
       "      <td>ID</td>\n",
       "      <td>6514.0</td>\n",
       "      <td>4085.903592</td>\n",
       "      <td>2351.028190</td>\n",
       "      <td>1.000000</td>\n",
       "      <td>2048.250000</td>\n",
       "      <td>4104.500000</td>\n",
       "      <td>6129.750000</td>\n",
       "      <td>8143.000000</td>\n",
       "    </tr>\n",
       "    <tr>\n",
       "      <td>Temperature</td>\n",
       "      <td>6514.0</td>\n",
       "      <td>20.616220</td>\n",
       "      <td>1.020584</td>\n",
       "      <td>19.000000</td>\n",
       "      <td>19.700000</td>\n",
       "      <td>20.390000</td>\n",
       "      <td>21.390000</td>\n",
       "      <td>23.180000</td>\n",
       "    </tr>\n",
       "    <tr>\n",
       "      <td>RelativeHumidity</td>\n",
       "      <td>6514.0</td>\n",
       "      <td>25.766588</td>\n",
       "      <td>5.529035</td>\n",
       "      <td>16.790000</td>\n",
       "      <td>20.290625</td>\n",
       "      <td>26.245000</td>\n",
       "      <td>30.550000</td>\n",
       "      <td>39.090000</td>\n",
       "    </tr>\n",
       "    <tr>\n",
       "      <td>Light</td>\n",
       "      <td>6514.0</td>\n",
       "      <td>119.560216</td>\n",
       "      <td>194.654809</td>\n",
       "      <td>0.000000</td>\n",
       "      <td>0.000000</td>\n",
       "      <td>0.000000</td>\n",
       "      <td>256.562500</td>\n",
       "      <td>1546.333333</td>\n",
       "    </tr>\n",
       "    <tr>\n",
       "      <td>OxygenLevels</td>\n",
       "      <td>6514.0</td>\n",
       "      <td>607.699139</td>\n",
       "      <td>316.244003</td>\n",
       "      <td>412.750000</td>\n",
       "      <td>439.000000</td>\n",
       "      <td>453.500000</td>\n",
       "      <td>642.583333</td>\n",
       "      <td>2028.500000</td>\n",
       "    </tr>\n",
       "    <tr>\n",
       "      <td>HumidityRatio</td>\n",
       "      <td>6514.0</td>\n",
       "      <td>0.003867</td>\n",
       "      <td>0.000852</td>\n",
       "      <td>0.002674</td>\n",
       "      <td>0.003097</td>\n",
       "      <td>0.003801</td>\n",
       "      <td>0.004352</td>\n",
       "      <td>0.006476</td>\n",
       "    </tr>\n",
       "    <tr>\n",
       "      <td>GTOccupancy</td>\n",
       "      <td>6514.0</td>\n",
       "      <td>0.213233</td>\n",
       "      <td>0.409622</td>\n",
       "      <td>0.000000</td>\n",
       "      <td>0.000000</td>\n",
       "      <td>0.000000</td>\n",
       "      <td>0.000000</td>\n",
       "      <td>1.000000</td>\n",
       "    </tr>\n",
       "  </tbody>\n",
       "</table>\n",
       "</div>"
      ],
      "text/plain": [
       "                   count         mean          std         min          25%  \\\n",
       "ID                6514.0  4085.903592  2351.028190    1.000000  2048.250000   \n",
       "Temperature       6514.0    20.616220     1.020584   19.000000    19.700000   \n",
       "RelativeHumidity  6514.0    25.766588     5.529035   16.790000    20.290625   \n",
       "Light             6514.0   119.560216   194.654809    0.000000     0.000000   \n",
       "OxygenLevels      6514.0   607.699139   316.244003  412.750000   439.000000   \n",
       "HumidityRatio     6514.0     0.003867     0.000852    0.002674     0.003097   \n",
       "GTOccupancy       6514.0     0.213233     0.409622    0.000000     0.000000   \n",
       "\n",
       "                          50%          75%          max  \n",
       "ID                4104.500000  6129.750000  8143.000000  \n",
       "Temperature         20.390000    21.390000    23.180000  \n",
       "RelativeHumidity    26.245000    30.550000    39.090000  \n",
       "Light                0.000000   256.562500  1546.333333  \n",
       "OxygenLevels       453.500000   642.583333  2028.500000  \n",
       "HumidityRatio        0.003801     0.004352     0.006476  \n",
       "GTOccupancy          0.000000     0.000000     1.000000  "
      ]
     },
     "execution_count": 7,
     "metadata": {},
     "output_type": "execute_result"
    }
   ],
   "source": [
    "df.describe().T"
   ]
  },
  {
   "cell_type": "code",
   "execution_count": 8,
   "metadata": {},
   "outputs": [
    {
     "data": {
      "image/png": "[encoded data removed]",
      "text/plain": [
       "<Figure size 1080x720 with 2 Axes>"
      ]
     },
     "metadata": {},
     "output_type": "display_data"
    }
   ],
   "source": [
    "# Need to check if weight is correlated with other features\n",
    "corrMatrix = df.corr()\n",
    "sns.set(font_scale=1.2)\n",
    "plt.subplots(figsize=(15,10))\n",
    "ax = sns.heatmap(corrMatrix, annot=True, annot_kws={\"size\": 10})\n",
    "bottom, top = ax.get_ylim()\n",
    "ax.set_ylim(bottom + 0.5, top - 0.5)\n",
    "plt.show()"
   ]
  },
  {
   "cell_type": "code",
   "execution_count": 70,
   "metadata": {},
   "outputs": [],
   "source": [
    "X = df.drop('Weight', axis = 1)\n",
    "Y = df[['Weight']]"
   ]
  },
  {
   "cell_type": "code",
   "execution_count": 71,
   "metadata": {},
   "outputs": [
    {
     "data": {
      "text/html": [
       "<div>\n",
       "<style scoped>\n",
       "    .dataframe tbody tr th:only-of-type {\n",
       "        vertical-align: middle;\n",
       "    }\n",
       "\n",
       "    .dataframe tbody tr th {\n",
       "        vertical-align: top;\n",
       "    }\n",
       "\n",
       "    .dataframe thead th {\n",
       "        text-align: right;\n",
       "    }\n",
       "</style>\n",
       "<table border=\"1\" class=\"dataframe\">\n",
       "  <thead>\n",
       "    <tr style=\"text-align: right;\">\n",
       "      <th></th>\n",
       "      <th>Species</th>\n",
       "      <th>Length1</th>\n",
       "      <th>Length2</th>\n",
       "      <th>Length3</th>\n",
       "      <th>Height</th>\n",
       "      <th>Width</th>\n",
       "    </tr>\n",
       "  </thead>\n",
       "  <tbody>\n",
       "    <tr>\n",
       "      <td>0</td>\n",
       "      <td>Bream</td>\n",
       "      <td>23.2</td>\n",
       "      <td>25.4</td>\n",
       "      <td>30.0</td>\n",
       "      <td>11.5200</td>\n",
       "      <td>4.0200</td>\n",
       "    </tr>\n",
       "    <tr>\n",
       "      <td>1</td>\n",
       "      <td>Bream</td>\n",
       "      <td>24.0</td>\n",
       "      <td>26.3</td>\n",
       "      <td>31.2</td>\n",
       "      <td>12.4800</td>\n",
       "      <td>4.3056</td>\n",
       "    </tr>\n",
       "    <tr>\n",
       "      <td>2</td>\n",
       "      <td>Bream</td>\n",
       "      <td>23.9</td>\n",
       "      <td>26.5</td>\n",
       "      <td>31.1</td>\n",
       "      <td>12.3778</td>\n",
       "      <td>4.6961</td>\n",
       "    </tr>\n",
       "    <tr>\n",
       "      <td>3</td>\n",
       "      <td>Bream</td>\n",
       "      <td>26.3</td>\n",
       "      <td>29.0</td>\n",
       "      <td>33.5</td>\n",
       "      <td>12.7300</td>\n",
       "      <td>4.4555</td>\n",
       "    </tr>\n",
       "    <tr>\n",
       "      <td>4</td>\n",
       "      <td>Bream</td>\n",
       "      <td>26.5</td>\n",
       "      <td>29.0</td>\n",
       "      <td>34.0</td>\n",
       "      <td>12.4440</td>\n",
       "      <td>5.1340</td>\n",
       "    </tr>\n",
       "    <tr>\n",
       "      <td>...</td>\n",
       "      <td>...</td>\n",
       "      <td>...</td>\n",
       "      <td>...</td>\n",
       "      <td>...</td>\n",
       "      <td>...</td>\n",
       "      <td>...</td>\n",
       "    </tr>\n",
       "    <tr>\n",
       "      <td>154</td>\n",
       "      <td>Smelt</td>\n",
       "      <td>11.5</td>\n",
       "      <td>12.2</td>\n",
       "      <td>13.4</td>\n",
       "      <td>2.0904</td>\n",
       "      <td>1.3936</td>\n",
       "    </tr>\n",
       "    <tr>\n",
       "      <td>155</td>\n",
       "      <td>Smelt</td>\n",
       "      <td>11.7</td>\n",
       "      <td>12.4</td>\n",
       "      <td>13.5</td>\n",
       "      <td>2.4300</td>\n",
       "      <td>1.2690</td>\n",
       "    </tr>\n",
       "    <tr>\n",
       "      <td>156</td>\n",
       "      <td>Smelt</td>\n",
       "      <td>12.1</td>\n",
       "      <td>13.0</td>\n",
       "      <td>13.8</td>\n",
       "      <td>2.2770</td>\n",
       "      <td>1.2558</td>\n",
       "    </tr>\n",
       "    <tr>\n",
       "      <td>157</td>\n",
       "      <td>Smelt</td>\n",
       "      <td>13.2</td>\n",
       "      <td>14.3</td>\n",
       "      <td>15.2</td>\n",
       "      <td>2.8728</td>\n",
       "      <td>2.0672</td>\n",
       "    </tr>\n",
       "    <tr>\n",
       "      <td>158</td>\n",
       "      <td>Smelt</td>\n",
       "      <td>13.8</td>\n",
       "      <td>15.0</td>\n",
       "      <td>16.2</td>\n",
       "      <td>2.9322</td>\n",
       "      <td>1.8792</td>\n",
       "    </tr>\n",
       "  </tbody>\n",
       "</table>\n",
       "<p>159 rows × 6 columns</p>\n",
       "</div>"
      ],
      "text/plain": [
       "    Species  Length1  Length2  Length3   Height   Width\n",
       "0     Bream     23.2     25.4     30.0  11.5200  4.0200\n",
       "1     Bream     24.0     26.3     31.2  12.4800  4.3056\n",
       "2     Bream     23.9     26.5     31.1  12.3778  4.6961\n",
       "3     Bream     26.3     29.0     33.5  12.7300  4.4555\n",
       "4     Bream     26.5     29.0     34.0  12.4440  5.1340\n",
       "..      ...      ...      ...      ...      ...     ...\n",
       "154   Smelt     11.5     12.2     13.4   2.0904  1.3936\n",
       "155   Smelt     11.7     12.4     13.5   2.4300  1.2690\n",
       "156   Smelt     12.1     13.0     13.8   2.2770  1.2558\n",
       "157   Smelt     13.2     14.3     15.2   2.8728  2.0672\n",
       "158   Smelt     13.8     15.0     16.2   2.9322  1.8792\n",
       "\n",
       "[159 rows x 6 columns]"
      ]
     },
     "execution_count": 71,
     "metadata": {},
     "output_type": "execute_result"
    }
   ],
   "source": [
    "X"
   ]
  },
  {
   "cell_type": "code",
   "execution_count": 72,
   "metadata": {},
   "outputs": [],
   "source": [
    "species_enc = OneHotEncoder(handle_unknown='ignore')\n",
    "\n",
    "species_enc_df = pd.DataFrame(species_enc.fit_transform(df[['Species']]).toarray())\n",
    "\n",
    "# df.iloc[:,0].reshape(-1,1)\n",
    "# type(df[['Species']])\n",
    "# type(df['Species'])\n",
    "# species_enc_df\n",
    "X = species_enc_df.join(X.drop('Species', axis = 1))\n",
    "\n",
    "\n",
    "\n",
    "\n",
    "# To Avoid Dummy Variable Trap Removing one Feature\n",
    "# https://www.algosome.com/articles/dummy-variable-trap-regression.html\n",
    "    "
   ]
  },
  {
   "cell_type": "code",
   "execution_count": 88,
   "metadata": {},
   "outputs": [],
   "source": [
    "# Deleting One Dummy Variable\n",
    "del X[0]"
   ]
  },
  {
   "cell_type": "code",
   "execution_count": 89,
   "metadata": {},
   "outputs": [
    {
     "data": {
      "text/html": [
       "<div>\n",
       "<style scoped>\n",
       "    .dataframe tbody tr th:only-of-type {\n",
       "        vertical-align: middle;\n",
       "    }\n",
       "\n",
       "    .dataframe tbody tr th {\n",
       "        vertical-align: top;\n",
       "    }\n",
       "\n",
       "    .dataframe thead th {\n",
       "        text-align: right;\n",
       "    }\n",
       "</style>\n",
       "<table border=\"1\" class=\"dataframe\">\n",
       "  <thead>\n",
       "    <tr style=\"text-align: right;\">\n",
       "      <th></th>\n",
       "      <th>1</th>\n",
       "      <th>2</th>\n",
       "      <th>3</th>\n",
       "      <th>4</th>\n",
       "      <th>5</th>\n",
       "      <th>6</th>\n",
       "      <th>Length1</th>\n",
       "      <th>Length2</th>\n",
       "      <th>Length3</th>\n",
       "      <th>Height</th>\n",
       "      <th>Width</th>\n",
       "    </tr>\n",
       "  </thead>\n",
       "  <tbody>\n",
       "    <tr>\n",
       "      <td>0</td>\n",
       "      <td>0.0</td>\n",
       "      <td>0.0</td>\n",
       "      <td>0.0</td>\n",
       "      <td>0.0</td>\n",
       "      <td>0.0</td>\n",
       "      <td>0.0</td>\n",
       "      <td>23.2</td>\n",
       "      <td>25.4</td>\n",
       "      <td>30.0</td>\n",
       "      <td>11.5200</td>\n",
       "      <td>4.0200</td>\n",
       "    </tr>\n",
       "    <tr>\n",
       "      <td>1</td>\n",
       "      <td>0.0</td>\n",
       "      <td>0.0</td>\n",
       "      <td>0.0</td>\n",
       "      <td>0.0</td>\n",
       "      <td>0.0</td>\n",
       "      <td>0.0</td>\n",
       "      <td>24.0</td>\n",
       "      <td>26.3</td>\n",
       "      <td>31.2</td>\n",
       "      <td>12.4800</td>\n",
       "      <td>4.3056</td>\n",
       "    </tr>\n",
       "    <tr>\n",
       "      <td>2</td>\n",
       "      <td>0.0</td>\n",
       "      <td>0.0</td>\n",
       "      <td>0.0</td>\n",
       "      <td>0.0</td>\n",
       "      <td>0.0</td>\n",
       "      <td>0.0</td>\n",
       "      <td>23.9</td>\n",
       "      <td>26.5</td>\n",
       "      <td>31.1</td>\n",
       "      <td>12.3778</td>\n",
       "      <td>4.6961</td>\n",
       "    </tr>\n",
       "    <tr>\n",
       "      <td>3</td>\n",
       "      <td>0.0</td>\n",
       "      <td>0.0</td>\n",
       "      <td>0.0</td>\n",
       "      <td>0.0</td>\n",
       "      <td>0.0</td>\n",
       "      <td>0.0</td>\n",
       "      <td>26.3</td>\n",
       "      <td>29.0</td>\n",
       "      <td>33.5</td>\n",
       "      <td>12.7300</td>\n",
       "      <td>4.4555</td>\n",
       "    </tr>\n",
       "    <tr>\n",
       "      <td>4</td>\n",
       "      <td>0.0</td>\n",
       "      <td>0.0</td>\n",
       "      <td>0.0</td>\n",
       "      <td>0.0</td>\n",
       "      <td>0.0</td>\n",
       "      <td>0.0</td>\n",
       "      <td>26.5</td>\n",
       "      <td>29.0</td>\n",
       "      <td>34.0</td>\n",
       "      <td>12.4440</td>\n",
       "      <td>5.1340</td>\n",
       "    </tr>\n",
       "    <tr>\n",
       "      <td>...</td>\n",
       "      <td>...</td>\n",
       "      <td>...</td>\n",
       "      <td>...</td>\n",
       "      <td>...</td>\n",
       "      <td>...</td>\n",
       "      <td>...</td>\n",
       "      <td>...</td>\n",
       "      <td>...</td>\n",
       "      <td>...</td>\n",
       "      <td>...</td>\n",
       "      <td>...</td>\n",
       "    </tr>\n",
       "    <tr>\n",
       "      <td>154</td>\n",
       "      <td>0.0</td>\n",
       "      <td>0.0</td>\n",
       "      <td>0.0</td>\n",
       "      <td>0.0</td>\n",
       "      <td>1.0</td>\n",
       "      <td>0.0</td>\n",
       "      <td>11.5</td>\n",
       "      <td>12.2</td>\n",
       "      <td>13.4</td>\n",
       "      <td>2.0904</td>\n",
       "      <td>1.3936</td>\n",
       "    </tr>\n",
       "    <tr>\n",
       "      <td>155</td>\n",
       "      <td>0.0</td>\n",
       "      <td>0.0</td>\n",
       "      <td>0.0</td>\n",
       "      <td>0.0</td>\n",
       "      <td>1.0</td>\n",
       "      <td>0.0</td>\n",
       "      <td>11.7</td>\n",
       "      <td>12.4</td>\n",
       "      <td>13.5</td>\n",
       "      <td>2.4300</td>\n",
       "      <td>1.2690</td>\n",
       "    </tr>\n",
       "    <tr>\n",
       "      <td>156</td>\n",
       "      <td>0.0</td>\n",
       "      <td>0.0</td>\n",
       "      <td>0.0</td>\n",
       "      <td>0.0</td>\n",
       "      <td>1.0</td>\n",
       "      <td>0.0</td>\n",
       "      <td>12.1</td>\n",
       "      <td>13.0</td>\n",
       "      <td>13.8</td>\n",
       "      <td>2.2770</td>\n",
       "      <td>1.2558</td>\n",
       "    </tr>\n",
       "    <tr>\n",
       "      <td>157</td>\n",
       "      <td>0.0</td>\n",
       "      <td>0.0</td>\n",
       "      <td>0.0</td>\n",
       "      <td>0.0</td>\n",
       "      <td>1.0</td>\n",
       "      <td>0.0</td>\n",
       "      <td>13.2</td>\n",
       "      <td>14.3</td>\n",
       "      <td>15.2</td>\n",
       "      <td>2.8728</td>\n",
       "      <td>2.0672</td>\n",
       "    </tr>\n",
       "    <tr>\n",
       "      <td>158</td>\n",
       "      <td>0.0</td>\n",
       "      <td>0.0</td>\n",
       "      <td>0.0</td>\n",
       "      <td>0.0</td>\n",
       "      <td>1.0</td>\n",
       "      <td>0.0</td>\n",
       "      <td>13.8</td>\n",
       "      <td>15.0</td>\n",
       "      <td>16.2</td>\n",
       "      <td>2.9322</td>\n",
       "      <td>1.8792</td>\n",
       "    </tr>\n",
       "  </tbody>\n",
       "</table>\n",
       "<p>159 rows × 11 columns</p>\n",
       "</div>"
      ],
      "text/plain": [
       "       1    2    3    4    5    6  Length1  Length2  Length3   Height   Width\n",
       "0    0.0  0.0  0.0  0.0  0.0  0.0     23.2     25.4     30.0  11.5200  4.0200\n",
       "1    0.0  0.0  0.0  0.0  0.0  0.0     24.0     26.3     31.2  12.4800  4.3056\n",
       "2    0.0  0.0  0.0  0.0  0.0  0.0     23.9     26.5     31.1  12.3778  4.6961\n",
       "3    0.0  0.0  0.0  0.0  0.0  0.0     26.3     29.0     33.5  12.7300  4.4555\n",
       "4    0.0  0.0  0.0  0.0  0.0  0.0     26.5     29.0     34.0  12.4440  5.1340\n",
       "..   ...  ...  ...  ...  ...  ...      ...      ...      ...      ...     ...\n",
       "154  0.0  0.0  0.0  0.0  1.0  0.0     11.5     12.2     13.4   2.0904  1.3936\n",
       "155  0.0  0.0  0.0  0.0  1.0  0.0     11.7     12.4     13.5   2.4300  1.2690\n",
       "156  0.0  0.0  0.0  0.0  1.0  0.0     12.1     13.0     13.8   2.2770  1.2558\n",
       "157  0.0  0.0  0.0  0.0  1.0  0.0     13.2     14.3     15.2   2.8728  2.0672\n",
       "158  0.0  0.0  0.0  0.0  1.0  0.0     13.8     15.0     16.2   2.9322  1.8792\n",
       "\n",
       "[159 rows x 11 columns]"
      ]
     },
     "execution_count": 89,
     "metadata": {},
     "output_type": "execute_result"
    }
   ],
   "source": [
    "# After deleting the one dummy variable.\n",
    "X"
   ]
  },
  {
   "cell_type": "code",
   "execution_count": 90,
   "metadata": {},
   "outputs": [
    {
     "name": "stdout",
     "output_type": "stream",
     "text": [
      "(106, 11)\n",
      "(53, 11)\n",
      "(106, 1)\n",
      "(53, 1)\n"
     ]
    }
   ],
   "source": [
    "import sklearn\n",
    "X_train, X_test, Y_train, Y_test = sklearn.model_selection.train_test_split(X, Y, test_size = 0.33, random_state = 5)\n",
    "print(X_train.shape)\n",
    "print(X_test.shape)\n",
    "print(Y_train.shape)\n",
    "print(Y_test.shape)"
   ]
  },
  {
   "cell_type": "code",
   "execution_count": 91,
   "metadata": {},
   "outputs": [
    {
     "data": {
      "image/png": "[encoded data removed]",
      "text/plain": [
       "<Figure size 432x288 with 1 Axes>"
      ]
     },
     "metadata": {},
     "output_type": "display_data"
    }
   ],
   "source": [
    "from sklearn.linear_model import LinearRegression\n",
    "lm = LinearRegression()\n",
    "lm.fit(X_train, Y_train)\n",
    "\n",
    "Y_pred = lm.predict(X_test)\n",
    "\n",
    "plt.scatter(Y_test, Y_pred)\n",
    "plt.xlabel(\"Weights: \")\n",
    "plt.ylabel(\"Predicted Weights:\")\n",
    "plt.title(\"Weights vs Predicted Weights:\")\n",
    "plt.show()"
   ]
  },
  {
   "cell_type": "code",
   "execution_count": 92,
   "metadata": {},
   "outputs": [
    {
     "data": {
      "text/plain": [
       "array([[ 294.44951039,  281.90299952,  -78.96842191,  268.8414596 ,\n",
       "         656.48626285,  239.34062957, -108.59072177,   65.50139546,\n",
       "          71.21882255,    9.16200786,    5.57652835]])"
      ]
     },
     "execution_count": 92,
     "metadata": {},
     "output_type": "execute_result"
    }
   ],
   "source": [
    "lm.coef_"
   ]
  },
  {
   "cell_type": "code",
   "execution_count": null,
   "metadata": {},
   "outputs": [],
   "source": [
    "# ### UnderStanding what coef does using simple Linear Regress model\n",
    "\n",
    "#      X                      z\n",
    "#     [[1, 2],                [[1, 2, 3], \n",
    "#      [3, 4],    dot_prod     [3, 4, 5]] \n",
    "#      [6, 2],\n",
    "#      [1, 2],\n",
    "#      [1, 9]] \n",
    "\n",
    "#     Result:\n",
    "# [[ 7 10 13]\n",
    "#  [15 22 29]\n",
    "#  [12 20 28]\n",
    "#  [ 7 10 13]\n",
    "#  [28 38 48]]\n",
    " \n",
    "    \n",
    "    \n",
    "    \n",
    "    \n",
    "    \n",
    "    \n",
    "# X = np.random.uniform(size=100).reshape(50, 2) # 50 Rows # 2 Columns\n",
    "# z = [[1, 2, 3], \n",
    "#      [3, 4, 5]]  #Two rows three column\n",
    "# Target Instance = y\n",
    "# y = np.dot(X,z)\n",
    "\n",
    "\n",
    "\n",
    "\n",
    "# First three instances of value for X and y\n",
    "# print(X[0:3])\n",
    "# print('-------------------------------------------')\n",
    "# print(y[0:3])\n",
    "\n",
    "\n",
    "\n",
    "# Notice, that y[0] = 1*x[0]+3*x[1], y[1] = 2*x[0] + 4*x[1] and y[2] = 3*x[0] + 5*x[1] \n",
    "# (that's how we created the data with the matrix multiplication).\n",
    "\n",
    "# clf_linear_regres = LinearRegression()\n",
    "# clf_linear_regres.fit(X, y) \n",
    "# print(clf_linear_regres.coef_)\n",
    "# [[1. 3.]\n",
    "#  [2. 4.]\n",
    "#  [3. 5.]]\n"
   ]
  },
  {
   "cell_type": "code",
   "execution_count": 96,
   "metadata": {},
   "outputs": [
    {
     "name": "stdout",
     "output_type": "stream",
     "text": [
      "                            OLS Regression Results                            \n",
      "==============================================================================\n",
      "Dep. Variable:                 Weight   R-squared:                       0.936\n",
      "Model:                            OLS   Adj. R-squared:                  0.931\n",
      "Method:                 Least Squares   F-statistic:                     195.7\n",
      "Date:                Sat, 30 May 2020   Prob (F-statistic):           6.85e-82\n",
      "Time:                        08:09:22   Log-Likelihood:                -941.46\n",
      "No. Observations:                 159   AIC:                             1907.\n",
      "Df Residuals:                     147   BIC:                             1944.\n",
      "Df Model:                          11                                         \n",
      "Covariance Type:            nonrobust                                         \n",
      "==============================================================================\n",
      "                 coef    std err          t      P>|t|      [0.025      0.975]\n",
      "------------------------------------------------------------------------------\n",
      "const       -918.3321    127.083     -7.226      0.000   -1169.478    -667.186\n",
      "1            164.7227     75.699      2.176      0.031      15.123     314.322\n",
      "2            137.9489    120.314      1.147      0.253     -99.819     375.717\n",
      "3           -208.4294    135.306     -1.540      0.126    -475.826      58.968\n",
      "4            103.0400     91.308      1.128      0.261     -77.407     283.487\n",
      "5            446.0733    119.430      3.735      0.000     210.051     682.095\n",
      "6             93.8742     96.658      0.971      0.333     -97.145     284.893\n",
      "Length1      -80.3030     36.279     -2.214      0.028    -151.998      -8.608\n",
      "Length2       79.8886     45.718      1.747      0.083     -10.461     170.238\n",
      "Length3       32.5354     29.300      1.110      0.269     -25.369      90.439\n",
      "Height         5.2510     13.056      0.402      0.688     -20.551      31.053\n",
      "Width         -0.5154     23.913     -0.022      0.983     -47.773      46.742\n",
      "==============================================================================\n",
      "Omnibus:                       43.558   Durbin-Watson:                   0.973\n",
      "Prob(Omnibus):                  0.000   Jarque-Bera (JB):               97.422\n",
      "Skew:                           1.184   Prob(JB):                     7.00e-22\n",
      "Kurtosis:                       6.016   Cond. No.                     2.03e+03\n",
      "==============================================================================\n",
      "\n",
      "Warnings:\n",
      "[1] Standard Errors assume that the covariance matrix of the errors is correctly specified.\n",
      "[2] The condition number is large, 2.03e+03. This might indicate that there are\n",
      "strong multicollinearity or other numerical problems.\n"
     ]
    }
   ],
   "source": [
    "# https://datatofish.com/statsmodels-linear-regression/\n",
    "import statsmodels.api as sm\n",
    "X = sm.add_constant(X) # adding a constant to replicate the situation (Adding x0 custom way as ones)\n",
    "# y = b0x0 * yb1x1 * b2x3................\n",
    "# This Case if by default in Linear Regression Model Selection\n",
    "# Significance level =0.05\n",
    "# Now Performing Backward Elimination with this Statsmodel with full feature then removing each feature one by one.\n",
    "# Optimal Features\n",
    "X_opt = X\n",
    "OLS = sm.OLS(Y,X_opt).fit()\n",
    "print(OLS.summary())\n",
    "\n",
    "\n"
   ]
  },
  {
   "cell_type": "code",
   "execution_count": 101,
   "metadata": {},
   "outputs": [
    {
     "name": "stdout",
     "output_type": "stream",
     "text": [
      "                            OLS Regression Results                            \n",
      "==============================================================================\n",
      "Dep. Variable:                 Weight   R-squared:                       0.936\n",
      "Model:                            OLS   Adj. R-squared:                  0.931\n",
      "Method:                 Least Squares   F-statistic:                     214.7\n",
      "Date:                Sat, 30 May 2020   Prob (F-statistic):           8.73e-83\n",
      "Time:                        08:15:27   Log-Likelihood:                -942.17\n",
      "No. Observations:                 159   AIC:                             1906.\n",
      "Df Residuals:                     148   BIC:                             1940.\n",
      "Df Model:                          10                                         \n",
      "Covariance Type:            nonrobust                                         \n",
      "==============================================================================\n",
      "                 coef    std err          t      P>|t|      [0.025      0.975]\n",
      "------------------------------------------------------------------------------\n",
      "const       -779.8532     39.581    -19.703      0.000    -858.070    -701.637\n",
      "1             88.8100     36.739      2.417      0.017      16.209     161.411\n",
      "3           -337.9768     74.524     -4.535      0.000    -485.244    -190.709\n",
      "4              5.2270     32.587      0.160      0.873     -59.169      69.623\n",
      "5            317.9195     42.127      7.547      0.000     234.671     401.168\n",
      "6             -6.2646     41.457     -0.151      0.880     -88.188      75.659\n",
      "Length1      -79.1064     36.302     -2.179      0.031    -150.844      -7.369\n",
      "Length2      105.1910     40.082      2.624      0.010      25.984     184.398\n",
      "Length3        7.5713     19.628      0.386      0.700     -31.216      46.359\n",
      "Height        -3.1772     10.802     -0.294      0.769     -24.522      18.168\n",
      "Width         13.3729     20.640      0.648      0.518     -27.415      54.160\n",
      "==============================================================================\n",
      "Omnibus:                       41.524   Durbin-Watson:                   0.947\n",
      "Prob(Omnibus):                  0.000   Jarque-Bera (JB):               90.124\n",
      "Skew:                           1.141   Prob(JB):                     2.69e-20\n",
      "Kurtosis:                       5.897   Cond. No.                         589.\n",
      "==============================================================================\n",
      "\n",
      "Warnings:\n",
      "[1] Standard Errors assume that the covariance matrix of the errors is correctly specified.\n"
     ]
    }
   ],
   "source": [
    "# Lower the p-value for indepndent variable. the more significance your model is going to be with dependent variable\n",
    "X_opt = X.drop(X.columns[2], axis=1)\n",
    "OLS = sm.OLS(Y,X_opt).fit()\n",
    "print(OLS.summary())"
   ]
  },
  {
   "cell_type": "code",
   "execution_count": 103,
   "metadata": {},
   "outputs": [
    {
     "name": "stdout",
     "output_type": "stream",
     "text": [
      "                            OLS Regression Results                            \n",
      "==============================================================================\n",
      "Dep. Variable:                 Weight   R-squared:                       0.936\n",
      "Model:                            OLS   Adj. R-squared:                  0.931\n",
      "Method:                 Least Squares   F-statistic:                     214.8\n",
      "Date:                Sat, 30 May 2020   Prob (F-statistic):           8.55e-83\n",
      "Time:                        08:16:31   Log-Likelihood:                -942.15\n",
      "No. Observations:                 159   AIC:                             1906.\n",
      "Df Residuals:                     148   BIC:                             1940.\n",
      "Df Model:                          10                                         \n",
      "Covariance Type:            nonrobust                                         \n",
      "==============================================================================\n",
      "                 coef    std err          t      P>|t|      [0.025      0.975]\n",
      "------------------------------------------------------------------------------\n",
      "const       -785.7286     48.444    -16.219      0.000    -881.459    -689.998\n",
      "1             94.8443     43.584      2.176      0.031       8.718     180.971\n",
      "2             11.0987     42.933      0.259      0.796     -73.742      95.939\n",
      "3           -338.5358     70.884     -4.776      0.000    -478.612    -198.460\n",
      "5            320.1464     42.599      7.515      0.000     235.965     404.328\n",
      "6             -1.3477     47.189     -0.029      0.977     -94.600      91.904\n",
      "Length1      -75.1022     36.018     -2.085      0.039    -146.278      -3.927\n",
      "Length2       94.6980     43.834      2.160      0.032       8.076     181.320\n",
      "Length3       14.2198     24.417      0.582      0.561     -34.031      62.470\n",
      "Height        -4.8107      9.546     -0.504      0.615     -23.675      14.054\n",
      "Width         13.8227     20.277      0.682      0.497     -26.247      53.893\n",
      "==============================================================================\n",
      "Omnibus:                       40.481   Durbin-Watson:                   0.946\n",
      "Prob(Omnibus):                  0.000   Jarque-Bera (JB):               85.775\n",
      "Skew:                           1.123   Prob(JB):                     2.37e-19\n",
      "Kurtosis:                       5.811   Cond. No.                         604.\n",
      "==============================================================================\n",
      "\n",
      "Warnings:\n",
      "[1] Standard Errors assume that the covariance matrix of the errors is correctly specified.\n"
     ]
    }
   ],
   "source": [
    "# Lower the p-value for indepndent variable. the more significance your model is going to be with dependent variable\n",
    "X_opt = X.drop(X.columns[4], axis=1)\n",
    "OLS = sm.OLS(Y,X_opt).fit()\n",
    "print(OLS.summary())"
   ]
  },
  {
   "cell_type": "markdown",
   "metadata": {},
   "source": [
    "### Some Interview Questions"
   ]
  },
  {
   "cell_type": "markdown",
   "metadata": {},
   "source": [
    "#### What is the difference between R-squared and Adjusted R-Squared value?\n",
    "\n",
    "https://www.quora.com/What-is-the-difference-between-R-squared-and-Adjusted-R-squared"
   ]
  },
  {
   "cell_type": "markdown",
   "metadata": {},
   "source": [
    "R square is the coefficient of determination, is the proportion of the variance in the dependent variable that is predictable from the independent variable(s).\n",
    "It ranges 0-1"
   ]
  },
  {
   "cell_type": "markdown",
   "metadata": {},
   "source": [
    "But having high  R2 always means a good model?\n",
    "\n",
    "No. The reason is simply that increasing the number of variables increases by  R2."
   ]
  },
  {
   "cell_type": "markdown",
   "metadata": {},
   "source": [
    "Adjusted  R2 decreases with the addition of more explanatory variables and hence are more reliable than  R2 \n",
    "\n",
    "R2Adjusted does not increase with the addition of insignificant variables. Instead, it decreases with it. Only with significant variables addition it increases. Hence it is more reliable than "
   ]
  },
  {
   "cell_type": "markdown",
   "metadata": {},
   "source": [
    "#### What are the various assumptions used while building in a LInear regression model?"
   ]
  },
  {
   "cell_type": "markdown",
   "metadata": {},
   "source": [
    "http://sphweb.bumc.bu.edu/otlt/MPH-Modules/BS/R/R5_Correlation-Regression/R5_Correlation-Regression4.html\n",
    "\n",
    "\n",
    "There are four assumptions associated with a linear regression model:\n",
    "\n",
    "- Linearity: The relationship between X and the mean of Y is linear.\n",
    "- Homoscedasticity: The variance of residual is the same for any value of X.\n",
    "- Independence: Observations are independent of each other.\n",
    "- Normality: For any fixed value of X, Y is normally distributed."
   ]
  },
  {
   "cell_type": "markdown",
   "metadata": {},
   "source": [
    "#### What are the different disadvantages of linear regression model?\n"
   ]
  },
  {
   "cell_type": "markdown",
   "metadata": {},
   "source": [
    "https://sciencing.com/disadvantages-linear-regression-8562780.html"
   ]
  },
  {
   "cell_type": "markdown",
   "metadata": {},
   "source": [
    "- Linear Regression Is Limited to Linear Relationships\n",
    "- Linear Regression Only Looks at the Mean of the Dependent Variable\n",
    "- Linear Regression Is Sensitive to Outliers\n",
    "- Data Must Be Independent"
   ]
  },
  {
   "cell_type": "markdown",
   "metadata": {},
   "source": [
    "#### What is the difference between RMSE and MSE?"
   ]
  },
  {
   "cell_type": "markdown",
   "metadata": {},
   "source": [
    "https://akhilendra.com/evaluation-metrics-regression-mae-mse-rmse-rmsle/"
   ]
  },
  {
   "cell_type": "markdown",
   "metadata": {},
   "source": [
    "#### What is gradient descent and how does that help in the interpretations of the model?"
   ]
  },
  {
   "cell_type": "code",
   "execution_count": null,
   "metadata": {},
   "outputs": [],
   "source": []
  }
 ],
 "metadata": {
  "kernelspec": {
   "display_name": "Python 3",
   "language": "python",
   "name": "python3"
  },
  "language_info": {
   "codemirror_mode": {
    "name": "ipython",
    "version": 3
   },
   "file_extension": ".py",
   "mimetype": "text/x-python",
   "name": "python",
   "nbconvert_exporter": "python",
   "pygments_lexer": "ipython3",
   "version": "3.7.4"
  }
 },
 "nbformat": 4,
 "nbformat_minor": 2
}
